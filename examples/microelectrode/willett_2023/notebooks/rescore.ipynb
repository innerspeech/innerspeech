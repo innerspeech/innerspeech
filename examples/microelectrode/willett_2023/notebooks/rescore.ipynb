{
 "cells": [
  {
   "cell_type": "code",
   "execution_count": 1,
   "metadata": {},
   "outputs": [
    {
     "data": {
      "text/plain": [
       "['../results/decodedSeq_test_2024-03-26-00-55-39_gru_test_train_0.1610.txt',\n",
       " '../results/decodedSeq_test_2024-03-24-17-53-30_gru_test_train_0.1604.txt',\n",
       " '../results/decodedSeq_test_2024-03-25-01-12-04_gru_test_train_0.1590.txt',\n",
       " '../results/decodedSeq_test_2024-03-24-09-24-03_gru_test_train_0.1632.txt',\n",
       " '../results/decodedSeq_test_2024-03-24-05-43-26_gru_test_train_0.1693.txt',\n",
       " '../results/decodedSeq_test_2024-03-26-00-55-39_gru_test_train_0.1713.txt']"
      ]
     },
     "execution_count": 1,
     "metadata": {},
     "output_type": "execute_result"
    }
   ],
   "source": [
    "import glob\n",
    "\n",
    "decodedSeq_files = glob.glob('../results/decodedSeq*0.1*.txt')\n",
    "# decodedSeq_files.pop(0)\n",
    "decodedSeq_files"
   ]
  },
  {
   "cell_type": "code",
   "execution_count": 2,
   "metadata": {},
   "outputs": [],
   "source": [
    "# create a list of list of the decoded sequences\n",
    "full_decodedSeqs = []\n",
    "for file in decodedSeq_files:\n",
    "    with open(file, 'r') as f:\n",
    "        preds = f.readlines()\n",
    "        preds = [x.strip() for x in preds]\n",
    "        full_decodedSeqs.append(preds)\n"
   ]
  },
  {
   "cell_type": "code",
   "execution_count": 3,
   "metadata": {},
   "outputs": [
    {
     "name": "stdout",
     "output_type": "stream",
     "text": [
      "0\n",
      "Your task is to perform automatic speech recognition. Below are multiple candidate transcriptions, listed from most likely to least likely. Choose the transcription that is most accurate, ensuring it is contextually and grammatically correct. Focus on key differences in the options that change the meaning or correctness. Avoid selections with repetitive or nonsensical phrases. In cases of ambiguity, select the option that is most coherent and contextually sound. Respond with the chosen transcription with all lower case, with no punctuncations, and without any explanatory text.\n",
      "\n",
      "clocks recounted\n",
      "they are reconsidered\n",
      "discuss weekend\n",
      "texas reentered\n",
      "the cost is kind\n",
      "\n",
      "1\n",
      "Your task is to perform automatic speech recognition. Below are multiple candidate transcriptions, listed from most likely to least likely. Choose the transcription that is most accurate, ensuring it is contextually and grammatically correct. Focus on key differences in the options that change the meaning or correctness. Avoid selections with repetitive or nonsensical phrases. In cases of ambiguity, select the option that is most coherent and contextually sound. Respond with the chosen transcription with all lower case, with no punctuncations, and without any explanatory text.\n",
      "\n",
      "yes purchase every kind of gas\n",
      "yes part several sounds like a graph\n",
      "rest portions ever and think if\n",
      "each person level and this graph\n",
      "each person ever signed lithograph\n",
      "\n",
      "2\n",
      "Your task is to perform automatic speech recognition. Below are multiple candidate transcriptions, listed from most likely to least likely. Choose the transcription that is most accurate, ensuring it is contextually and grammatically correct. Focus on key differences in the options that change the meaning or correctness. Avoid selections with repetitive or nonsensical phrases. In cases of ambiguity, select the option that is most coherent and contextually sound. Respond with the chosen transcription with all lower case, with no punctuncations, and without any explanatory text.\n",
      "\n",
      "the rules we made in and of us collusion\n",
      "the rules we made in in of us collusion\n",
      "the rules we made in in a vast collusion\n",
      "the rules we made in in a vast collusion\n",
      "the rules we made in in a vast collusion\n",
      "\n",
      "3\n",
      "Your task is to perform automatic speech recognition. Below are multiple candidate transcriptions, listed from most likely to least likely. Choose the transcription that is most accurate, ensuring it is contextually and grammatically correct. Focus on key differences in the options that change the meaning or correctness. Avoid selections with repetitive or nonsensical phrases. In cases of ambiguity, select the option that is most coherent and contextually sound. Respond with the chosen transcription with all lower case, with no punctuncations, and without any explanatory text.\n",
      "\n",
      "three came need back loves to be completely ellen\n",
      "three houses need back lives to be completely ellen\n",
      "three houses need back lives to be computer ellen\n",
      "we came need back lives to be computer ellen\n",
      "trees time need break loves to be computer ellen\n",
      "\n",
      "4\n",
      "Your task is to perform automatic speech recognition. Below are multiple candidate transcriptions, listed from most likely to least likely. Choose the transcription that is most accurate, ensuring it is contextually and grammatically correct. Focus on key differences in the options that change the meaning or correctness. Avoid selections with repetitive or nonsensical phrases. In cases of ambiguity, select the option that is most coherent and contextually sound. Respond with the chosen transcription with all lower case, with no punctuncations, and without any explanatory text.\n",
      "\n",
      "the truth very we got to come when rogers to fill out\n",
      "the truth very wicked to come when words to fill out\n",
      "the truth very right to come when workers to fill out\n",
      "the truth very fit to come run was to fill out\n",
      "the truth very we got to come when we were to fill out\n",
      "\n",
      "5\n",
      "Your task is to perform automatic speech recognition. Below are multiple candidate transcriptions, listed from most likely to least likely. Choose the transcription that is most accurate, ensuring it is contextually and grammatically correct. Focus on key differences in the options that change the meaning or correctness. Avoid selections with repetitive or nonsensical phrases. In cases of ambiguity, select the option that is most coherent and contextually sound. Respond with the chosen transcription with all lower case, with no punctuncations, and without any explanatory text.\n",
      "\n",
      "that thing if you're was goes by side deeper a decision\n",
      "that can be it was could be hard paper a nation\n",
      "that thing if it was called a college prep a decision\n",
      "that singing whip are was caused by trying pepper i listen\n",
      "that singing with her was cold be tied up listen\n",
      "\n"
     ]
    }
   ],
   "source": [
    "# construct rescoribng message\n",
    "BASE_MESSAGE = \"\"\"Your task is to perform automatic speech recognition. Below are multiple candidate transcriptions, listed from most likely to least likely. Choose the transcription that is most accurate, ensuring it is contextually and grammatically correct. Focus on key differences in the options that change the meaning or correctness. Avoid selections with repetitive or nonsensical phrases. In cases of ambiguity, select the option that is most coherent and contextually sound. Respond with the chosen transcription with all lower case, with no punctuncations, and without any explanatory text.\\n\"\"\"\n",
    "\n",
    "for idx in range(len(full_decodedSeqs)):\n",
    "    message = BASE_MESSAGE + '\\n'\n",
    "    for model in range(5):\n",
    "        message += full_decodedSeqs[model][idx] + '\\n'\n",
    "\n",
    "    print(idx)\n",
    "    print(message)"
   ]
  },
  {
   "cell_type": "code",
   "execution_count": 8,
   "metadata": {},
   "outputs": [
    {
     "name": "stdout",
     "output_type": "stream",
     "text": [
      "{\"error\": \"I'm sorry, but there was no World Series champion in 2020. Due to the COVID-19 pandemic, the MLB season was shortened and modified, culminating in an expanded playoff format with no official World Series winner declared.\"}\n"
     ]
    }
   ],
   "source": [
    "from openai import OpenAI\n",
    "import os\n",
    "\n",
    "api_key=os.getenv(\"OPENAI_API_KEY\")\n",
    "\n",
    "client = OpenAI(api_key=api_key)\n",
    "\n",
    "response = client.chat.completions.create(\n",
    "  model=\"gpt-3.5-turbo\",\n",
    "  response_format={ \"type\": \"json_object\" },\n",
    "  messages=[\n",
    "    {\"role\": \"system\", \"content\": \"You are a helpful assistant designed to output JSON.\"},\n",
    "    {\"role\": \"user\", \"content\": \"Who won the world series in 2020?\"}\n",
    "  ]\n",
    ")\n",
    "print(response.choices[0].message.content)"
   ]
  }
 ],
 "metadata": {
  "kernelspec": {
   "display_name": "bci-torch",
   "language": "python",
   "name": "python3"
  },
  "language_info": {
   "codemirror_mode": {
    "name": "ipython",
    "version": 3
   },
   "file_extension": ".py",
   "mimetype": "text/x-python",
   "name": "python",
   "nbconvert_exporter": "python",
   "pygments_lexer": "ipython3",
   "version": "3.9.19"
  }
 },
 "nbformat": 4,
 "nbformat_minor": 2
}
